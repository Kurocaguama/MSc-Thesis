{
 "cells": [
  {
   "cell_type": "code",
   "execution_count": 1,
   "id": "0d89a99b-a6db-4566-8a15-3f71d75b136c",
   "metadata": {},
   "outputs": [],
   "source": [
    "import transformers, torch\n",
    "from transformers import AutoTokenizer, AutoModelForCausalLM, BitsAndBytesConfig\n",
    "\n",
    "quantization_config = BitsAndBytesConfig(load_in_8bit = True)\n",
    "\n",
    "prop_log = 'If Mason left his job, then he will not receive any salary.'\n",
    "prompt = f'Translate the following statement to propositional logic: {prop_log}.'\n",
    "\n",
    "messages = [\n",
    "    {'role': 'user', 'content': prompt}\n",
    "]"
   ]
  },
  {
   "cell_type": "code",
   "execution_count": 2,
   "id": "f8f177a4-facc-4b52-b618-549516c6da0f",
   "metadata": {},
   "outputs": [
    {
     "name": "stdout",
     "output_type": "stream",
     "text": [
      "cuda\n",
      "|===========================================================================|\n",
      "|                  PyTorch CUDA memory summary, device ID 0                 |\n",
      "|---------------------------------------------------------------------------|\n",
      "|            CUDA OOMs: 0            |        cudaMalloc retries: 0         |\n",
      "|===========================================================================|\n",
      "|        Metric         | Cur Usage  | Peak Usage | Tot Alloc  | Tot Freed  |\n",
      "|---------------------------------------------------------------------------|\n",
      "| Allocated memory      |      0 B   |      0 B   |      0 B   |      0 B   |\n",
      "|       from large pool |      0 B   |      0 B   |      0 B   |      0 B   |\n",
      "|       from small pool |      0 B   |      0 B   |      0 B   |      0 B   |\n",
      "|---------------------------------------------------------------------------|\n",
      "| Active memory         |      0 B   |      0 B   |      0 B   |      0 B   |\n",
      "|       from large pool |      0 B   |      0 B   |      0 B   |      0 B   |\n",
      "|       from small pool |      0 B   |      0 B   |      0 B   |      0 B   |\n",
      "|---------------------------------------------------------------------------|\n",
      "| Requested memory      |      0 B   |      0 B   |      0 B   |      0 B   |\n",
      "|       from large pool |      0 B   |      0 B   |      0 B   |      0 B   |\n",
      "|       from small pool |      0 B   |      0 B   |      0 B   |      0 B   |\n",
      "|---------------------------------------------------------------------------|\n",
      "| GPU reserved memory   |      0 B   |      0 B   |      0 B   |      0 B   |\n",
      "|       from large pool |      0 B   |      0 B   |      0 B   |      0 B   |\n",
      "|       from small pool |      0 B   |      0 B   |      0 B   |      0 B   |\n",
      "|---------------------------------------------------------------------------|\n",
      "| Non-releasable memory |      0 B   |      0 B   |      0 B   |      0 B   |\n",
      "|       from large pool |      0 B   |      0 B   |      0 B   |      0 B   |\n",
      "|       from small pool |      0 B   |      0 B   |      0 B   |      0 B   |\n",
      "|---------------------------------------------------------------------------|\n",
      "| Allocations           |       0    |       0    |       0    |       0    |\n",
      "|       from large pool |       0    |       0    |       0    |       0    |\n",
      "|       from small pool |       0    |       0    |       0    |       0    |\n",
      "|---------------------------------------------------------------------------|\n",
      "| Active allocs         |       0    |       0    |       0    |       0    |\n",
      "|       from large pool |       0    |       0    |       0    |       0    |\n",
      "|       from small pool |       0    |       0    |       0    |       0    |\n",
      "|---------------------------------------------------------------------------|\n",
      "| GPU reserved segments |       0    |       0    |       0    |       0    |\n",
      "|       from large pool |       0    |       0    |       0    |       0    |\n",
      "|       from small pool |       0    |       0    |       0    |       0    |\n",
      "|---------------------------------------------------------------------------|\n",
      "| Non-releasable allocs |       0    |       0    |       0    |       0    |\n",
      "|       from large pool |       0    |       0    |       0    |       0    |\n",
      "|       from small pool |       0    |       0    |       0    |       0    |\n",
      "|---------------------------------------------------------------------------|\n",
      "| Oversize allocations  |       0    |       0    |       0    |       0    |\n",
      "|---------------------------------------------------------------------------|\n",
      "| Oversize GPU segments |       0    |       0    |       0    |       0    |\n",
      "|===========================================================================|\n",
      "\n"
     ]
    }
   ],
   "source": [
    "dev = torch.device('cuda' if torch.cuda.is_available() else 'cpu')\n",
    "print(dev)\n",
    "torch.cuda.empty_cache()\n",
    "print(torch.cuda.memory_summary())"
   ]
  },
  {
   "cell_type": "markdown",
   "id": "e000e6c9-5585-4cd2-81a0-cfe01c5491d5",
   "metadata": {},
   "source": [
    "## DeepSeek 🐋"
   ]
  },
  {
   "cell_type": "code",
   "execution_count": null,
   "id": "e5000493-97e1-4ac9-a76b-e472161080e4",
   "metadata": {},
   "outputs": [],
   "source": [
    "deepseek_tokenizer = AutoTokenizer.from_pretrained(\"deepseek-ai/DeepSeek-R1\")\n",
    "deepseek_model = AutoModelForCausalLM.from_pretrained(\"deepseek-ai/DeepSeek-R1\", trust_remote_code = True, quantization_config = quantization_config)"
   ]
  },
  {
   "cell_type": "markdown",
   "id": "37fc0b03-3d77-4091-8087-3e1a0f7aa125",
   "metadata": {},
   "source": [
    "## QwQ"
   ]
  },
  {
   "cell_type": "code",
   "execution_count": null,
   "id": "915b043f-853e-4265-b904-f9412cf536c3",
   "metadata": {},
   "outputs": [
    {
     "name": "stderr",
     "output_type": "stream",
     "text": [
      "`low_cpu_mem_usage` was None, now default to True since model is quantized.\n",
      "Sliding Window Attention is enabled but not implemented for `sdpa`; unexpected results may be encountered.\n"
     ]
    },
    {
     "data": {
      "application/vnd.jupyter.widget-view+json": {
       "model_id": "db3adaf54f6740978237b5daa6a5bada",
       "version_major": 2,
       "version_minor": 0
      },
      "text/plain": [
       "Loading checkpoint shards:   0%|          | 0/14 [00:00<?, ?it/s]"
      ]
     },
     "metadata": {},
     "output_type": "display_data"
    }
   ],
   "source": [
    "qwen_tokenizer = AutoTokenizer.from_pretrained(\"Qwen/QwQ-32B\")\n",
    "qwen_model = AutoModelForCausalLM.from_pretrained(\"Qwen/QwQ-32B\", quantization_config = quantization_config)"
   ]
  },
  {
   "cell_type": "code",
   "execution_count": null,
   "id": "f805d50d-fd86-4a32-94f4-94bc04a10187",
   "metadata": {},
   "outputs": [],
   "source": [
    "%%time\n",
    "qwq_text = qwen_tokenizer.apply_chat_template(\n",
    "    messages, \n",
    "    tokenize = False,\n",
    "    add_generation_prompt = True\n",
    ")\n",
    "\n",
    "qwq_input = qwen_tokenizer([qwq_text], return_tensors='pt').to(qwen_model.device)\n",
    "\n",
    "qwq_ids = qwen_model.generate(\n",
    "    **qwq_input,\n",
    "    max_new_tokens = 1024\n",
    ")\n",
    "\n",
    "qwq_ids = [\n",
    "    output_ids[len(input_ids):] for input_ids, output_ids in zip(qwq_input.input_ids, qwq_ids)\n",
    "]\n",
    "\n",
    "response = qwen_tokenizer.batch_decode(qwq_ids, skip_special_tokens=True)[0]\n",
    "print(response)"
   ]
  },
  {
   "cell_type": "markdown",
   "id": "cc082c72-65dd-415d-b944-da32c7c1941e",
   "metadata": {},
   "source": [
    "## Llama 🦙"
   ]
  },
  {
   "cell_type": "code",
   "execution_count": null,
   "id": "637e8b67-7ad9-470a-b7ac-67fa393d4ea2",
   "metadata": {},
   "outputs": [],
   "source": [
    "llama_id = 'meta-llama/Llama-3.1-8B'\n",
    "llama_model = AutoModelForCausalLM.from_pretrained(llama_id)\n",
    "llama_tokenizer = AutoTokenizer.from_pretrained(llama_id)\n",
    "\n",
    "llama_text = llama_tokenizer.apply_chat_template(\n",
    "    messages, \n",
    "    tokenize = False,\n",
    "    add_generation_prompt = True\n",
    ")\n",
    "\n",
    "llama_input = llama_tokenizer([llama_text], return_tensors='pt').to(llama_model.device)\n",
    "\n",
    "llama_ids = llama_model.generate(\n",
    "    **llama_input,\n",
    "    max_new_tokens = 1024\n",
    ")\n",
    "\n",
    "llama_ids = [\n",
    "    output_ids[len(input_ids):] for input_ids, output_ids in zip(llama_input.input_ids, llama_ids)\n",
    "]\n",
    "\n",
    "llama_response = llama_tokenizer.batch_decode(llama_ids, skip_special_tokens =True)[0]\n",
    "print(llama_response)"
   ]
  },
  {
   "cell_type": "code",
   "execution_count": null,
   "id": "10a1c9b8-ccf5-4725-8bae-0c152a4f9c1b",
   "metadata": {},
   "outputs": [],
   "source": []
  }
 ],
 "metadata": {
  "kernelspec": {
   "display_name": "Python 3 (ipykernel)",
   "language": "python",
   "name": "python3"
  },
  "language_info": {
   "codemirror_mode": {
    "name": "ipython",
    "version": 3
   },
   "file_extension": ".py",
   "mimetype": "text/x-python",
   "name": "python",
   "nbconvert_exporter": "python",
   "pygments_lexer": "ipython3",
   "version": "3.9.18"
  }
 },
 "nbformat": 4,
 "nbformat_minor": 5
}
