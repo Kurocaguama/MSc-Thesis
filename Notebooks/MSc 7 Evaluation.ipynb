{
 "cells": [
  {
   "cell_type": "code",
   "execution_count": null,
   "id": "acc2dbcb-eba3-4168-ad6f-c8b1ad9b76e4",
   "metadata": {},
   "outputs": [
    {
     "data": {
      "application/vnd.jupyter.widget-view+json": {
       "model_id": "35d2d1b14fb6432bb0b5b853508f0d9b",
       "version_major": 2,
       "version_minor": 0
      },
      "text/plain": [
       "generation_config.json:   0%|          | 0.00/188 [00:00<?, ?B/s]"
      ]
     },
     "metadata": {},
     "output_type": "display_data"
    },
    {
     "data": {
      "application/vnd.jupyter.widget-view+json": {
       "model_id": "dcc37bdeeea341429f9b625405dabbef",
       "version_major": 2,
       "version_minor": 0
      },
      "text/plain": [
       "tokenizer_config.json:   0%|          | 0.00/776 [00:00<?, ?B/s]"
      ]
     },
     "metadata": {},
     "output_type": "display_data"
    },
    {
     "name": "stderr",
     "output_type": "stream",
     "text": [
      "Xet Storage is enabled for this repo, but the 'hf_xet' package is not installed. Falling back to regular HTTP download. For better performance, install the package with: `pip install huggingface_hub[hf_xet]` or `pip install hf_xet`\n"
     ]
    },
    {
     "data": {
      "application/vnd.jupyter.widget-view+json": {
       "model_id": "3dd8cad42d2848e3850ea63bfae65e62",
       "version_major": 2,
       "version_minor": 0
      },
      "text/plain": [
       "tokenizer.model:   0%|          | 0.00/500k [00:00<?, ?B/s]"
      ]
     },
     "metadata": {},
     "output_type": "display_data"
    },
    {
     "data": {
      "application/vnd.jupyter.widget-view+json": {
       "model_id": "69542b477e9942fc979ccaf4534b1b25",
       "version_major": 2,
       "version_minor": 0
      },
      "text/plain": [
       "tokenizer.json:   0%|          | 0.00/1.84M [00:00<?, ?B/s]"
      ]
     },
     "metadata": {},
     "output_type": "display_data"
    },
    {
     "data": {
      "application/vnd.jupyter.widget-view+json": {
       "model_id": "ab947a7ed08b4e1a89f3ad0e82662184",
       "version_major": 2,
       "version_minor": 0
      },
      "text/plain": [
       "special_tokens_map.json:   0%|          | 0.00/414 [00:00<?, ?B/s]"
      ]
     },
     "metadata": {},
     "output_type": "display_data"
    },
    {
     "data": {
      "application/vnd.jupyter.widget-view+json": {
       "model_id": "48988f6203c14a7fbfadfb9f6c7ae89e",
       "version_major": 2,
       "version_minor": 0
      },
      "text/plain": [
       "config.json:   0%|          | 0.00/609 [00:00<?, ?B/s]"
      ]
     },
     "metadata": {},
     "output_type": "display_data"
    },
    {
     "data": {
      "application/vnd.jupyter.widget-view+json": {
       "model_id": "fb0fc50853d04302806209c492aeb74c",
       "version_major": 2,
       "version_minor": 0
      },
      "text/plain": [
       "model.safetensors.index.json:   0%|          | 0.00/26.8k [00:00<?, ?B/s]"
      ]
     },
     "metadata": {},
     "output_type": "display_data"
    },
    {
     "data": {
      "application/vnd.jupyter.widget-view+json": {
       "model_id": "a8409c347af14799acb034aa2b8d6d13",
       "version_major": 2,
       "version_minor": 0
      },
      "text/plain": [
       "Fetching 2 files:   0%|          | 0/2 [00:00<?, ?it/s]"
      ]
     },
     "metadata": {},
     "output_type": "display_data"
    },
    {
     "name": "stderr",
     "output_type": "stream",
     "text": [
      "Xet Storage is enabled for this repo, but the 'hf_xet' package is not installed. Falling back to regular HTTP download. For better performance, install the package with: `pip install huggingface_hub[hf_xet]` or `pip install hf_xet`\n",
      "Xet Storage is enabled for this repo, but the 'hf_xet' package is not installed. Falling back to regular HTTP download. For better performance, install the package with: `pip install huggingface_hub[hf_xet]` or `pip install hf_xet`\n"
     ]
    },
    {
     "data": {
      "application/vnd.jupyter.widget-view+json": {
       "model_id": "6d07fd0805c24543b3135039fc829260",
       "version_major": 2,
       "version_minor": 0
      },
      "text/plain": [
       "model-00001-of-00002.safetensors:   0%|          | 0.00/9.98G [00:00<?, ?B/s]"
      ]
     },
     "metadata": {},
     "output_type": "display_data"
    },
    {
     "data": {
      "application/vnd.jupyter.widget-view+json": {
       "model_id": "f6ccf55360f345bf809649470f7417d1",
       "version_major": 2,
       "version_minor": 0
      },
      "text/plain": [
       "model-00002-of-00002.safetensors:   0%|          | 0.00/3.50G [00:00<?, ?B/s]"
      ]
     },
     "metadata": {},
     "output_type": "display_data"
    }
   ],
   "source": [
    "import torch\n",
    "import pandas as pd\n",
    "from transformers import AutoTokenizer, AutoModelForCausalLM, BitsAndBytesConfig, GenerationConfig\n",
    "from datasets import load_dataset, Dataset\n",
    "\n",
    "dev = torch.device('cuda' if torch.cuda.is_available() else 'cpu')\n",
    "kuro_ds = load_dataset('Kurosawama/beam_search_DPO', split = 'train')\n",
    "\n",
    "def initialize_model(model_id):\n",
    "    quant_config = BitsAndBytesConfig(load_in_4bit = True, bnb_4bit_compute_dtype = torch.bfloat16)\n",
    "    gen_config = GenerationConfig.from_pretrained(model_id)\n",
    "    tokenizer = AutoTokenizer.from_pretrained(model_id)\n",
    "    tokenizer.chat_template = \"\"\"\n",
    "            <|im_start|>system\n",
    "            {SYSTEM}<|im_end|>\n",
    "            <|im_start|>user\n",
    "            {INPUT}<|im_ed|>\n",
    "            <|im_start|>assistant\n",
    "            {OUTPUT}<|im_end|>\n",
    "        \"\"\"\n",
    "    model = AutoModelForCausalLM.from_pretrained(model_id, quantization_config = quant_config, generation_config = gen_config)\n",
    "    model.generation_config.pad_token_id = tokenizer.pad_token_id\n",
    "    return model, tokenizer\n",
    "\n",
    "#model_id = 'meta-llama/Llama-3.2-1B'\n",
    "#model_id = 'meta-llama/Llama-3.2-1B-Instruct'\n",
    "\n",
    "base_model_id = 'meta-llama/Llama-2-7b-hf'\n",
    "align_model_id = 'Kurosawama/Llama-2-7b-DPO-beamsearch-align'\n",
    "\n",
    "base_model, base_tokenizer = initialize_model(base_model_id)\n",
    "align_model, align_tokenizer = initialize_model(align_model_id)"
   ]
  },
  {
   "cell_type": "code",
   "execution_count": 6,
   "id": "70bbdef9-7baa-4850-9e6f-b2a6ed0bdd7c",
   "metadata": {},
   "outputs": [
    {
     "data": {
      "text/plain": [
       "Dataset({\n",
       "    features: ['chosen', 'rejected', 'score_chosen', 'score_rejected'],\n",
       "    num_rows: 340\n",
       "})"
      ]
     },
     "execution_count": 6,
     "metadata": {},
     "output_type": "execute_result"
    }
   ],
   "source": [
    "kuro_ds"
   ]
  },
  {
   "cell_type": "code",
   "execution_count": 29,
   "id": "e03b6edf-86e3-43d2-8de0-e70a9cdd58e8",
   "metadata": {},
   "outputs": [
    {
     "name": "stdout",
     "output_type": "stream",
     "text": [
      "∀x (DrinkRegularly(x, coffee) → IsDependentOn(x, caffeine)) ∀x (DrinkRegularly(x, coffee)  ∨ (¬WantToBeAddictedTo(x, caffeine))) ∀x (¬WantToBeAddictedTo(x, caffeine) → ¬AwareThatDrug(x, caffeine)) ¬(Student(rina) ⊕  ¬AwareThatDrug(rina, caffeine)) ¬(IsDependentOn(rina, caffeine) ⊕ Student(rina))  \n",
      " --- \n",
      "  Dependent(x) ::: x is a person dependent on caffeine.\n",
      "             Drinks(x) ::: x regularly drinks coffee.\n",
      "             Jokes(x) ::: x jokes about being addicted to caffeine.\n",
      "             Unaware(x) ::: x is unaware that caffeine is a drug.\n",
      "             Student(x) ::: x is a student.\n",
      "             Premises:\n",
      "             ∀x (Drinks(x) → Dependent(x)) ::: All people who regularly drink coffee are dependent on caffeine.\n",
      "             ∀x (Drinks(x) ⊕ Jokes(x)) ::: People who either regularly drink coffee or joke about being addicted to caffeine.\n",
      "             ∀x (Jokes(x) → ¬Unaware(x)) ::: No one who jokes about being addicted to caffeine is unaware that caffeine is a drug. \n",
      "             (Student(rina) ∧ Unaware(rina)) ⊕ ¬(Student(rina) ∨ Unaware(rina)) ::: Rina is either a student and unaware that caffeine is a drug, or neither a student nor unaware\n"
     ]
    }
   ],
   "source": [
    "def get_answer(dataset, ans_num):\n",
    "    \"\"\"\n",
    "    dataset = huggingface dataset \n",
    "    ans_num = int ; Valor de la entrada del dataset que queremos analizar\n",
    "\n",
    "    Nos regresa las respuestas del modelo filtradas. \n",
    "    \"\"\"\n",
    "    chosen = dataset['chosen'][ans_num][1]['content']\n",
    "    rejected = dataset['rejected'][ans_num][1]['content']\n",
    "    return chosen, rejected\n",
    "\n",
    "cho1, rej1 = get_answer(kuro_ds, 0)\n",
    "print(cho1, '\\n', '---', '\\n', rej1)"
   ]
  },
  {
   "cell_type": "code",
   "execution_count": 30,
   "id": "e17a3a97-c2ff-42a3-9062-a4d2d5135c32",
   "metadata": {},
   "outputs": [
    {
     "data": {
      "text/plain": [
       "'∀x (DrinkRegularly(x, coffee) → IsDependentOn(x, caffeine)) ∀x (DrinkRegularly(x, coffee)  ∨ (¬WantToBeAddictedTo(x, caffeine))) ∀x (¬WantToBeAddictedTo(x, caffeine) → ¬AwareThatDrug(x, caffeine)) ¬(Student(rina) ⊕  ¬AwareThatDrug(rina, caffeine)) ¬(IsDependentOn(rina, caffeine) ⊕ Student(rina)) '"
      ]
     },
     "execution_count": 30,
     "metadata": {},
     "output_type": "execute_result"
    }
   ],
   "source": [
    "cho1"
   ]
  },
  {
   "cell_type": "code",
   "execution_count": 31,
   "id": "6b8fea72-2042-4326-af7b-d692500fb714",
   "metadata": {},
   "outputs": [
    {
     "data": {
      "text/plain": [
       "['',\n",
       " '(DrinkRegularly(x, coffee) → IsDependentOn(x, caffeine)) ',\n",
       " '(DrinkRegularly(x, coffee)  ∨ (¬WantToBeAddictedTo(x, caffeine))) ',\n",
       " '(¬WantToBeAddictedTo(x, caffeine) → ¬AwareThatDrug(x, caffeine)) ¬(Student(rina) ⊕  ¬AwareThatDrug(rina, caffeine)) ¬(IsDependentOn(rina, caffeine) ⊕ Student(rina)) ']"
      ]
     },
     "execution_count": 31,
     "metadata": {},
     "output_type": "execute_result"
    }
   ],
   "source": [
    "# '∀x|∃x'\n",
    "cho1.split('∀x ')"
   ]
  },
  {
   "cell_type": "code",
   "execution_count": 34,
   "id": "82011c54-7dbc-4b79-8251-8b1af036adf1",
   "metadata": {},
   "outputs": [
    {
     "data": {
      "text/plain": [
       "['',\n",
       " ' (DrinkRegularly(x, coffee) → IsDependentOn(x, caffeine)) ',\n",
       " ' (DrinkRegularly(x, coffee)  ∨ (¬WantToBeAddictedTo(x, caffeine))) ',\n",
       " ' (¬WantToBeAddictedTo(x, caffeine) → ¬AwareThatDrug(x, caffeine)) ',\n",
       " 'Student(rina) ⊕  ¬AwareThatDrug(rina, caffeine)) ',\n",
       " 'IsDependentOn(rina, caffeine) ⊕ Student(rina)) ']"
      ]
     },
     "execution_count": 34,
     "metadata": {},
     "output_type": "execute_result"
    }
   ],
   "source": [
    "import re\n",
    "re.split('∀x|∃x|¬\\(', cho1) # Casi pero no nos regesa la ER."
   ]
  },
  {
   "cell_type": "markdown",
   "id": "002a17a6-41d2-4417-a935-90b25836b9f2",
   "metadata": {},
   "source": [
    "**VER QUÉ VERGAS VAMOS A HACER PARA LA EVALUACIÓN Y LA SEPARACIÓN DE PREMISAS**"
   ]
  },
  {
   "cell_type": "code",
   "execution_count": null,
   "id": "5aeeec4c-2cc5-4120-ac91-8730a9191578",
   "metadata": {},
   "outputs": [],
   "source": []
  }
 ],
 "metadata": {
  "kernelspec": {
   "display_name": "Python 3 (ipykernel)",
   "language": "python",
   "name": "python3"
  },
  "language_info": {
   "codemirror_mode": {
    "name": "ipython",
    "version": 3
   },
   "file_extension": ".py",
   "mimetype": "text/x-python",
   "name": "python",
   "nbconvert_exporter": "python",
   "pygments_lexer": "ipython3",
   "version": "3.9.18"
  }
 },
 "nbformat": 4,
 "nbformat_minor": 5
}
