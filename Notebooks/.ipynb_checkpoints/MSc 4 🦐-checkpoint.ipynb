{
 "cells": [
  {
   "cell_type": "code",
   "execution_count": 3,
   "id": "c348cbab-2058-48e5-97cb-f558c0dc3b74",
   "metadata": {},
   "outputs": [],
   "source": [
    "from datasets import load_dataset\n",
    "folio = load_dataset(\"yale-nlp/FOLIO\")\n",
    "#p_folio = load_dataset(\"yale-nlp/P-FOLIO\")"
   ]
  },
  {
   "cell_type": "code",
   "execution_count": 6,
   "id": "97ba6022-d583-42b8-8c36-9651c7172d22",
   "metadata": {},
   "outputs": [
    {
     "data": {
      "text/plain": [
       "Dataset({\n",
       "    features: ['story_id', 'premises', 'premises-FOL', 'conclusion', 'conclusion-FOL', 'label', 'example_id'],\n",
       "    num_rows: 1001\n",
       "})"
      ]
     },
     "execution_count": 6,
     "metadata": {},
     "output_type": "execute_result"
    }
   ],
   "source": [
    "folio_train = folio['train']\n",
    "folio_train"
   ]
  },
  {
   "cell_type": "code",
   "execution_count": 14,
   "id": "3cd7e068-a98f-44d2-8a95-fd0425e3fe0a",
   "metadata": {},
   "outputs": [
    {
     "name": "stdout",
     "output_type": "stream",
     "text": [
      "677 677 1001\n"
     ]
    }
   ],
   "source": [
    "clean_premises = []\n",
    "clean_labels = []\n",
    "for i in range(len(folio_train['label'])):\n",
    "    if folio_train['label'][i] == 'True':\n",
    "        clean_labels.append(1)\n",
    "        clean_premises.append(folio_train['premises'][i])\n",
    "    elif folio_train['label'][i] == 'False':\n",
    "        clean_labels.append(0)\n",
    "        clean_premises.append(folio_train['premises'][i])\n",
    "\n",
    "print(len(clean_premises), len(clean_labels), len(folio_train['label']))"
   ]
  },
  {
   "cell_type": "markdown",
   "id": "e9c7d417-43f9-414e-bc84-516b3f648483",
   "metadata": {},
   "source": [
    "**Notas**\n",
    "\n",
    "1. Un primer acercamiento es simplificar el dataset ignorando los valores 'Uncertain'\n",
    "2. Tal vez se puede medir algún nivel de \"relevancia\" para decantar el etiquetado final."
   ]
  },
  {
   "cell_type": "code",
   "execution_count": null,
   "id": "d899f50c-b577-48b6-abca-422d424bc38e",
   "metadata": {},
   "outputs": [],
   "source": [
    "import torch\n",
    "from transformers import GPT2Tokenizer, AutoModelForCausalLM\n",
    "\n",
    "model = AutoModelForCausalLM.from_pretrained('openai-community/gpt2')\n"
   ]
  },
  {
   "cell_type": "code",
   "execution_count": null,
   "id": "8d3eaab9-0dd3-451c-beb0-9cca6de2188b",
   "metadata": {},
   "outputs": [],
   "source": [
    "from trl import SFTConfig, SFTTrainer\n",
    "\n",
    "training_args = SFTConfig(\n",
    "    learning_rate = 1e-05,\n",
    "    weight_decay = 0.02,\n",
    "    num_train_epochs = 2.0\n",
    ")\n",
    "\n",
    "trainer = SFTTrainer(\n",
    "    model = model,\n",
    "    train_dataset = \n",
    ")"
   ]
  }
 ],
 "metadata": {
  "kernelspec": {
   "display_name": "Python 3 (ipykernel)",
   "language": "python",
   "name": "python3"
  },
  "language_info": {
   "codemirror_mode": {
    "name": "ipython",
    "version": 3
   },
   "file_extension": ".py",
   "mimetype": "text/x-python",
   "name": "python",
   "nbconvert_exporter": "python",
   "pygments_lexer": "ipython3",
   "version": "3.9.18"
  }
 },
 "nbformat": 4,
 "nbformat_minor": 5
}
