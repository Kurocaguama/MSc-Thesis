{
 "cells": [
  {
   "cell_type": "code",
   "execution_count": 2,
   "id": "d8035091-0390-4c7f-aa3a-23b40c8186fc",
   "metadata": {},
   "outputs": [],
   "source": [
    "import torch\n",
    "from transformers import AutoTokenizer, AutoModelForCausalLM, BitsAndBytesConfig\n",
    "from datasets import load_dataset, Dataset\n",
    "\n",
    "model_id = 'meta-llama/Llama-3.2-1B'\n",
    "# Vamos a hacer pruebas con distintos tipos de modelos. Los -Instruct y los bases.\n",
    "model_id_instruct = 'meta-llama/Llama-3.2-1B-Instruct'\n",
    "\n",
    "dev = torch.device('cuda' if torch.cuda.is_available() else 'cpu')\n",
    "\n",
    "folio = load_dataset('yale-nlp/FOLIO')\n",
    "\n",
    "quant_config = BitsAndBytesConfig(load_in_4bit = True)\n",
    "tokenizer = AutoTokenizer.from_pretrained(model_id)\n",
    "model = AutoModelForCausalLM.from_pretrained(model_id, quantization_config = quant_config)"
   ]
  },
  {
   "cell_type": "code",
   "execution_count": null,
   "id": "97e2ec90-bcf6-4141-b043-17599d9dcd66",
   "metadata": {},
   "outputs": [],
   "source": [
    "# GENERAR LAS TRADUCCIONES, INFERENCIAS, Y RETRADUCCIONES POR CADA MODELO. VAN A SER LA BASE PARA DPO."
   ]
  }
 ],
 "metadata": {
  "kernelspec": {
   "display_name": "Python 3 (ipykernel)",
   "language": "python",
   "name": "python3"
  },
  "language_info": {
   "codemirror_mode": {
    "name": "ipython",
    "version": 3
   },
   "file_extension": ".py",
   "mimetype": "text/x-python",
   "name": "python",
   "nbconvert_exporter": "python",
   "pygments_lexer": "ipython3",
   "version": "3.9.18"
  }
 },
 "nbformat": 4,
 "nbformat_minor": 5
}
