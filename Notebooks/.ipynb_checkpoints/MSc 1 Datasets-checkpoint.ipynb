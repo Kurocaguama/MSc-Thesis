{
 "cells": [
  {
   "cell_type": "code",
   "execution_count": 1,
   "id": "7fa46c39-e794-423c-9f02-3faf7234c74e",
   "metadata": {},
   "outputs": [],
   "source": [
    "import transformers\n",
    "import pandas as pd\n",
    "import datasets\n",
    "from datasets import load_dataset\n",
    "\n",
    "folio = load_dataset(\"yale-nlp/FOLIO\")\n",
    "lb_propositional = pd.read_json(r'C:\\Users\\FLopezP\\Documents\\GitHub\\MSc-Thesis\\Datasets\\LogicBench-main\\data\\LogicBench(Aug)\\propositional_logic\\modus_tollens\\data_instances.json')\n",
    "lb_nonmon = pd.read_json(r'C:\\Users\\FLopezP\\Documents\\GitHub\\MSc-Thesis\\Datasets\\LogicBench-main\\data\\LogicBench(Aug)\\nm_logic\\default_reasoning_default\\data_instances.json')\n",
    "\n",
    "#logicbench = load_dataset(\"cogint/LogicBench-v1.0/data/LogicBench(Aug)/first_order_logic/bidirectional_dilemma/data_instances.json\")\n",
    "#logicbench = load_dataset(\"cogint/LogicBench-v1.0/data/LogicBench(Aug)\")\n",
    "#print(logicbench)\n",
    "\n",
    "#p_folio = load_dataset(\"yale-nlp/P-FOLIO\")\n",
    "#print(folio, p_folio)"
   ]
  },
  {
   "cell_type": "code",
   "execution_count": 8,
   "id": "b6d282ce-16b9-4a45-9e68-87d7c5862bbb",
   "metadata": {},
   "outputs": [],
   "source": [
    "def clear_logicbench(lb_dataset, ej_amount):\n",
    "    \"\"\"\n",
    "    Clearly prints the LogicBench dataset.\n",
    "    \n",
    "    lb_dataset = pd.read_json() ; \n",
    "    ej_amount = int ; Amount of examples to print.\n",
    "    \"\"\"\n",
    "    for _ in range(ej_amount):\n",
    "        aux = lb_dataset.iloc[_]\n",
    "        aux_data = aux['data_samples']\n",
    "        print(f\"CONTEXTO: {aux_data['context']}\")\n",
    "        print(\"---\")\n",
    "        print(\"QA\")\n",
    "        print(\"---\")\n",
    "        for _ in aux_data['qa_pairs']:\n",
    "            print(_['question'])\n",
    "            print(_['answer'])\n",
    "            print(\"--\")\n",
    "        print(\"-----------------------\")"
   ]
  },
  {
   "cell_type": "code",
   "execution_count": 2,
   "id": "2e23961d-df01-4273-b7ab-887290cf201f",
   "metadata": {},
   "outputs": [
    {
     "name": "stdout",
     "output_type": "stream",
     "text": [
      "DatasetDict({\n",
      "    train: Dataset({\n",
      "        features: ['story_id', 'premises', 'premises-FOL', 'conclusion', 'conclusion-FOL', 'label', 'example_id'],\n",
      "        num_rows: 1001\n",
      "    })\n",
      "    validation: Dataset({\n",
      "        features: ['story_id', 'premises', 'premises-FOL', 'conclusion', 'conclusion-FOL', 'label', 'example_id'],\n",
      "        num_rows: 203\n",
      "    })\n",
      "})\n"
     ]
    }
   ],
   "source": [
    "print(folio)"
   ]
  },
  {
   "cell_type": "code",
   "execution_count": 12,
   "id": "75f3d71f-e4c7-4151-ad78-6b9eefcbbcc4",
   "metadata": {},
   "outputs": [
    {
     "data": {
      "text/html": [
       "<div>\n",
       "<style scoped>\n",
       "    .dataframe tbody tr th:only-of-type {\n",
       "        vertical-align: middle;\n",
       "    }\n",
       "\n",
       "    .dataframe tbody tr th {\n",
       "        vertical-align: top;\n",
       "    }\n",
       "\n",
       "    .dataframe thead th {\n",
       "        text-align: right;\n",
       "    }\n",
       "</style>\n",
       "<table border=\"1\" class=\"dataframe\">\n",
       "  <thead>\n",
       "    <tr style=\"text-align: right;\">\n",
       "      <th></th>\n",
       "      <th>type</th>\n",
       "      <th>axiom</th>\n",
       "      <th>data_samples</th>\n",
       "    </tr>\n",
       "  </thead>\n",
       "  <tbody>\n",
       "    <tr>\n",
       "      <th>0</th>\n",
       "      <td>propositional_logic</td>\n",
       "      <td>modus_tollens</td>\n",
       "      <td>{'context': 'If Mason left his job, then he wi...</td>\n",
       "    </tr>\n",
       "    <tr>\n",
       "      <th>1</th>\n",
       "      <td>propositional_logic</td>\n",
       "      <td>modus_tollens</td>\n",
       "      <td>{'context': 'If Daniel has a pet dog, then he ...</td>\n",
       "    </tr>\n",
       "    <tr>\n",
       "      <th>2</th>\n",
       "      <td>propositional_logic</td>\n",
       "      <td>modus_tollens</td>\n",
       "      <td>{'context': 'If Jack won the lottery, then he ...</td>\n",
       "    </tr>\n",
       "  </tbody>\n",
       "</table>\n",
       "</div>"
      ],
      "text/plain": [
       "                  type          axiom  \\\n",
       "0  propositional_logic  modus_tollens   \n",
       "1  propositional_logic  modus_tollens   \n",
       "2  propositional_logic  modus_tollens   \n",
       "\n",
       "                                        data_samples  \n",
       "0  {'context': 'If Mason left his job, then he wi...  \n",
       "1  {'context': 'If Daniel has a pet dog, then he ...  \n",
       "2  {'context': 'If Jack won the lottery, then he ...  "
      ]
     },
     "execution_count": 12,
     "metadata": {},
     "output_type": "execute_result"
    }
   ],
   "source": [
    "lb_propositional.head(3)"
   ]
  },
  {
   "cell_type": "code",
   "execution_count": 13,
   "id": "9179483a-2656-4c45-8cab-375ed68949ba",
   "metadata": {
    "scrolled": true
   },
   "outputs": [
    {
     "data": {
      "text/html": [
       "<div>\n",
       "<style scoped>\n",
       "    .dataframe tbody tr th:only-of-type {\n",
       "        vertical-align: middle;\n",
       "    }\n",
       "\n",
       "    .dataframe tbody tr th {\n",
       "        vertical-align: top;\n",
       "    }\n",
       "\n",
       "    .dataframe thead th {\n",
       "        text-align: right;\n",
       "    }\n",
       "</style>\n",
       "<table border=\"1\" class=\"dataframe\">\n",
       "  <thead>\n",
       "    <tr style=\"text-align: right;\">\n",
       "      <th></th>\n",
       "      <th>type</th>\n",
       "      <th>axiom</th>\n",
       "      <th>data_samples</th>\n",
       "    </tr>\n",
       "  </thead>\n",
       "  <tbody>\n",
       "    <tr>\n",
       "      <th>0</th>\n",
       "      <td>non_monotonic_logic</td>\n",
       "      <td>default_reasoning_default</td>\n",
       "      <td>{'context': 'kangaroos and emus are marsupials...</td>\n",
       "    </tr>\n",
       "    <tr>\n",
       "      <th>1</th>\n",
       "      <td>non_monotonic_logic</td>\n",
       "      <td>default_reasoning_default</td>\n",
       "      <td>{'context': 'john and bob are tall. tall peopl...</td>\n",
       "    </tr>\n",
       "    <tr>\n",
       "      <th>2</th>\n",
       "      <td>non_monotonic_logic</td>\n",
       "      <td>default_reasoning_default</td>\n",
       "      <td>{'context': 'cats and dogs are furry. furry an...</td>\n",
       "    </tr>\n",
       "  </tbody>\n",
       "</table>\n",
       "</div>"
      ],
      "text/plain": [
       "                  type                      axiom  \\\n",
       "0  non_monotonic_logic  default_reasoning_default   \n",
       "1  non_monotonic_logic  default_reasoning_default   \n",
       "2  non_monotonic_logic  default_reasoning_default   \n",
       "\n",
       "                                        data_samples  \n",
       "0  {'context': 'kangaroos and emus are marsupials...  \n",
       "1  {'context': 'john and bob are tall. tall peopl...  \n",
       "2  {'context': 'cats and dogs are furry. furry an...  "
      ]
     },
     "execution_count": 13,
     "metadata": {},
     "output_type": "execute_result"
    }
   ],
   "source": [
    "lb_nonmon.head(3)"
   ]
  },
  {
   "cell_type": "code",
   "execution_count": 10,
   "id": "8d51f805-4362-40d6-9e18-ce969bda1fd6",
   "metadata": {
    "scrolled": true
   },
   "outputs": [
    {
     "name": "stdout",
     "output_type": "stream",
     "text": [
      "CONTEXTO: If Mason left his job, then he will not receive any salary.\n",
      "---\n",
      "QA\n",
      "---\n",
      "If he will receive any salary, does this mean that mason didn't leave his job?\n",
      "yes\n",
      "--\n",
      "If he will receive any salary, does this mean that Mason left his job?\n",
      "no\n",
      "--\n",
      "If he will not receive any salary, does this imply that mason didn't leave his job?\n",
      "no\n",
      "--\n",
      "If he will not receive any salary, does this mean that Mason left his job?\n",
      "no\n",
      "--\n",
      "-----------------------\n",
      "CONTEXTO: If Daniel has a pet dog, then he will take it for a walk every day.\n",
      "---\n",
      "QA\n",
      "---\n",
      "If he won't take it for a walk every day, does this mean that daniel doesn't have a pet dog?\n",
      "yes\n",
      "--\n",
      "If he won't take it for a walk every day, does this mean that Daniel has a pet dog?\n",
      "no\n",
      "--\n",
      "If he will take it for a walk every day, does this mean that daniel doesn't have a pet dog?\n",
      "no\n",
      "--\n",
      "If he will take it for a walk every day, does this mean that Daniel has a pet dog?\n",
      "no\n",
      "--\n",
      "-----------------------\n",
      "CONTEXTO: If Jack won the lottery, then he will buy a house.\n",
      "---\n",
      "QA\n",
      "---\n",
      "If he won't buy a house, does this imply that jack didn't win the lottery?\n",
      "yes\n",
      "--\n",
      "If he won't buy a house, does this mean that Jack won the lottery?\n",
      "no\n",
      "--\n",
      "If he will buy a house, does this entail that jack didn't win the lottery?\n",
      "no\n",
      "--\n",
      "If he will buy a house, does this mean that Jack won the lottery?\n",
      "no\n",
      "--\n",
      "-----------------------\n"
     ]
    }
   ],
   "source": [
    "clear_logicbench(lb_propositional, 3)"
   ]
  },
  {
   "cell_type": "code",
   "execution_count": 11,
   "id": "37bf47c3-026c-43d9-b08b-4dd07fabcb4e",
   "metadata": {
    "scrolled": true
   },
   "outputs": [
    {
     "name": "stdout",
     "output_type": "stream",
     "text": [
      "CONTEXTO: kangaroos and emus are marsupials. marsupials usually carry their young in a pouch. kangaroos are possibly an exception to this rule.\n",
      "---\n",
      "QA\n",
      "---\n",
      "does this entail that emus carry their young in a pouch?\n",
      "yes\n",
      "--\n",
      "does this entail that emus don't carry their young in a pouch?\n",
      "no\n",
      "--\n",
      "-----------------------\n",
      "CONTEXTO: john and bob are tall. tall people usually have good posture. john is possibly an exception to this rule.\n",
      "---\n",
      "QA\n",
      "---\n",
      "does this entail that bob has good posture?\n",
      "yes\n",
      "--\n",
      "does this imply that bob doesn't have good posture?\n",
      "no\n",
      "--\n",
      "-----------------------\n",
      "CONTEXTO: cats and dogs are furry. furry animals are normally kept as pets. cats are possibly an exception to this rule.\n",
      "---\n",
      "QA\n",
      "---\n",
      "does this entail that dogs are kept as pets?\n",
      "yes\n",
      "--\n",
      "does this mean that dogs aren't kept as pets?\n",
      "no\n",
      "--\n",
      "-----------------------\n"
     ]
    }
   ],
   "source": [
    "clear_logicbench(lb_nonmon, 3)"
   ]
  },
  {
   "cell_type": "code",
   "execution_count": 17,
   "id": "3f016899-fafc-4aeb-b540-153644e54cc5",
   "metadata": {},
   "outputs": [
    {
     "name": "stdout",
     "output_type": "stream",
     "text": [
      "All people who regularly drink coffee are dependent on caffeine.\n",
      "People regularly drink coffee, or they don't want to be addicted to caffeine, or both.\n",
      "No one who doesn't want to be addicted to caffeine is unaware that caffeine is a drug.\n",
      "Rina is either a student who is unaware that caffeine is a drug, or she is not a student and is she aware that caffeine is a drug.\n",
      "Rina  is either a student who is dependent on caffeine, or she is not a student and not dependent on caffeine.\n",
      "---\n",
      "∀x (DrinkRegularly(x, coffee) → IsDependentOn(x, caffeine))\n",
      "∀x (DrinkRegularly(x, coffee)  ∨ (¬WantToBeAddictedTo(x, caffeine)))\n",
      "∀x (¬WantToBeAddictedTo(x, caffeine) → ¬AwareThatDrug(x, caffeine))\n",
      "¬(Student(rina) ⊕  ¬AwareThatDrug(rina, caffeine))\n",
      "¬(IsDependentOn(rina, caffeine) ⊕ Student(rina))\n",
      "---\n",
      "Rina doesn't want to be addicted to caffeine or is unaware that caffeine is a drug.\n",
      "---\n",
      "¬WantToBeAddictedTo(rina, caffeine) ∨ (¬AwareThatDrug(rina, caffeine))\n",
      "---\n"
     ]
    }
   ],
   "source": [
    "train = folio['train']\n",
    "ejemplo = train[0]\n",
    "\n",
    "print(ejemplo['premises'])\n",
    "print(\"---\")\n",
    "print(ejemplo['premises-FOL'])\n",
    "print(\"---\")\n",
    "print(ejemplo['conclusion'])\n",
    "print(\"---\")\n",
    "print(ejemplo['conclusion-FOL'])\n",
    "print(\"---\")"
   ]
  },
  {
   "cell_type": "code",
   "execution_count": null,
   "id": "96bf6ba4-48f1-4c84-9b48-557099fe24b6",
   "metadata": {},
   "outputs": [],
   "source": []
  },
  {
   "cell_type": "markdown",
   "id": "5e88151e-524b-495e-a4e5-58b9bcf5660d",
   "metadata": {},
   "source": [
    "## Comments\n",
    "\n",
    "**FOLIO** is the best suited for the task since it has both NL and FOL statements in problem definition as well as problem solution. Limitations consist on the type of logic presented in the dataset, it lacks both propositonal logic as well non monotonic logic.\n",
    "\n",
    "**LogicBench** has propositional and non monotonic logic, but there is no ground truth.\n",
    "\n",
    "\n",
    "**Problems**\n",
    "1. P-FOLIO has dataset problems. (Consistent formatting in huggingfagce) **Send creators comments.**\n",
    "2. LogicBench also has dataset problems. (Dataset not found in huggingface)"
   ]
  },
  {
   "cell_type": "code",
   "execution_count": null,
   "id": "a957b46f-6044-425b-aa80-22be63242210",
   "metadata": {},
   "outputs": [],
   "source": []
  }
 ],
 "metadata": {
  "kernelspec": {
   "display_name": "Python 3 (ipykernel)",
   "language": "python",
   "name": "python3"
  },
  "language_info": {
   "codemirror_mode": {
    "name": "ipython",
    "version": 3
   },
   "file_extension": ".py",
   "mimetype": "text/x-python",
   "name": "python",
   "nbconvert_exporter": "python",
   "pygments_lexer": "ipython3",
   "version": "3.9.18"
  }
 },
 "nbformat": 4,
 "nbformat_minor": 5
}
