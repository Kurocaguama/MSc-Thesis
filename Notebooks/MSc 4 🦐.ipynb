{
 "cells": [
  {
   "cell_type": "markdown",
   "id": "9b673de0-0514-4af4-86bb-09bbe728cf73",
   "metadata": {},
   "source": [
    "# SFT, PPO, DPO"
   ]
  },
  {
   "cell_type": "code",
   "execution_count": 1,
   "id": "c348cbab-2058-48e5-97cb-f558c0dc3b74",
   "metadata": {},
   "outputs": [
    {
     "data": {
      "text/plain": [
       "Dataset({\n",
       "    features: ['story_id', 'premises', 'premises-FOL', 'conclusion', 'conclusion-FOL', 'label', 'example_id'],\n",
       "    num_rows: 1001\n",
       "})"
      ]
     },
     "execution_count": 1,
     "metadata": {},
     "output_type": "execute_result"
    }
   ],
   "source": [
    "from datasets import load_dataset, Dataset\n",
    "from trl import SFTConfig, SFTTrainer, AutoModelForCausalLMWithValueHead\n",
    "from transformers import GPT2Tokenizer, AutoModelForCausalLM, GenerationConfig, AutoTokenizer\n",
    "import pandas as pd\n",
    "import torch, trl\n",
    "\n",
    "folio = load_dataset(\"yale-nlp/FOLIO\")\n",
    "\n",
    "folio_test = folio['validation']\n",
    "folio_train = folio['train']\n",
    "folio_train\n",
    "#p_folio = load_dataset(\"yale-nlp/P-FOLIO\") # HABLARLES A LOS DE YALE"
   ]
  },
  {
   "cell_type": "markdown",
   "id": "ad5f0d48-1ace-425f-acc4-f9f30e7cb666",
   "metadata": {},
   "source": [
    "### Cleaning FOLIO for SFT training\n",
    "\n",
    "**v0.1** We remove the 'Uncertain' tag and carry out the SFT using only True (1) and False (0) tags."
   ]
  },
  {
   "cell_type": "code",
   "execution_count": 2,
   "id": "3cd7e068-a98f-44d2-8a95-fd0425e3fe0a",
   "metadata": {},
   "outputs": [
    {
     "data": {
      "text/plain": [
       "Dataset({\n",
       "    features: ['text', 'label'],\n",
       "    num_rows: 677\n",
       "})"
      ]
     },
     "execution_count": 2,
     "metadata": {},
     "output_type": "execute_result"
    }
   ],
   "source": [
    "clean_premises = []\n",
    "clean_labels = []\n",
    "for i in range(len(folio_train['label'])):\n",
    "    if folio_train['label'][i] == 'True':\n",
    "        clean_labels.append(1)\n",
    "        clean_premises.append(folio_train['premises'][i])\n",
    "    elif folio_train['label'][i] == 'False':\n",
    "        clean_labels.append(0)\n",
    "        clean_premises.append(folio_train['premises'][i])\n",
    "\n",
    "\n",
    "dict_dataset = {'text': clean_premises, 'label': clean_labels}\n",
    "folio_df = pd.DataFrame(dict_dataset)\n",
    "folio_new = Dataset.from_pandas(folio_df)\n",
    "\n",
    "folio_new"
   ]
  },
  {
   "cell_type": "markdown",
   "id": "fcdb59da-e6b9-44bc-b978-3cf9563dc70d",
   "metadata": {
    "jp-MarkdownHeadingCollapsed": true
   },
   "source": [
    "### SFT Training"
   ]
  },
  {
   "cell_type": "code",
   "execution_count": 25,
   "id": "70bff128-8afe-4710-b5de-a34461b2c0b0",
   "metadata": {},
   "outputs": [
    {
     "data": {
      "application/vnd.jupyter.widget-view+json": {
       "model_id": "b3f5b52201294e4ebeaa3e316410ed61",
       "version_major": 2,
       "version_minor": 0
      },
      "text/plain": [
       "Map:   0%|          | 0/677 [00:00<?, ? examples/s]"
      ]
     },
     "metadata": {},
     "output_type": "display_data"
    }
   ],
   "source": [
    "# Basic configuration following: https://huggingface.co/docs/trl/v0.16.1/sft_trainer\n",
    "\n",
    "#model = AutoModelForCausalLM.from_pretrained('openai-community/gpt2')\n",
    "\n",
    "#training_args = SFTConfig(\n",
    "#    learning_rate = 1e-05,\n",
    "#    weight_decay = 0.02,\n",
    "#    num_train_epochs = 2.0\n",
    "#)\n",
    "\n",
    "#trainer = SFTTrainer(\n",
    "#    model,\n",
    "#    train_dataset = folio_new,\n",
    "#    args = training_args,\n",
    "#)"
   ]
  },
  {
   "cell_type": "code",
   "execution_count": 26,
   "id": "b1fe6ae5-bc1e-423a-9fb4-0e3365f6f38f",
   "metadata": {},
   "outputs": [
    {
     "name": "stderr",
     "output_type": "stream",
     "text": [
      "`loss_type=None` was set in the config but it is unrecognised.Using the default loss: `ForCausalLMLoss`.\n"
     ]
    },
    {
     "data": {
      "text/html": [
       "\n",
       "    <div>\n",
       "      \n",
       "      <progress value='170' max='170' style='width:300px; height:20px; vertical-align: middle;'></progress>\n",
       "      [170/170 00:26, Epoch 2/2]\n",
       "    </div>\n",
       "    <table border=\"1\" class=\"dataframe\">\n",
       "  <thead>\n",
       " <tr style=\"text-align: left;\">\n",
       "      <th>Step</th>\n",
       "      <th>Training Loss</th>\n",
       "    </tr>\n",
       "  </thead>\n",
       "  <tbody>\n",
       "  </tbody>\n",
       "</table><p>"
      ],
      "text/plain": [
       "<IPython.core.display.HTML object>"
      ]
     },
     "metadata": {},
     "output_type": "display_data"
    },
    {
     "name": "stdout",
     "output_type": "stream",
     "text": [
      "CPU times: total: 25.9 s\n",
      "Wall time: 27.2 s\n"
     ]
    },
    {
     "data": {
      "text/plain": [
       "TrainOutput(global_step=170, training_loss=2.5084853228400736, metrics={'train_runtime': 27.0288, 'train_samples_per_second': 50.095, 'train_steps_per_second': 6.29, 'total_flos': 94077889920000.0, 'train_loss': 2.5084853228400736, 'epoch': 2.0})"
      ]
     },
     "execution_count": 26,
     "metadata": {},
     "output_type": "execute_result"
    }
   ],
   "source": [
    "#%%time\n",
    "# Only train if working on a new model\n",
    "#trainer.train()"
   ]
  },
  {
   "cell_type": "code",
   "execution_count": 27,
   "id": "f722c13a-9232-40d1-ad40-bb33bec8cc07",
   "metadata": {},
   "outputs": [
    {
     "data": {
      "application/vnd.jupyter.widget-view+json": {
       "model_id": "482ed97c799f4cd989b60fa6957b3990",
       "version_major": 2,
       "version_minor": 0
      },
      "text/plain": [
       "model.safetensors:   0%|          | 0.00/498M [00:00<?, ?B/s]"
      ]
     },
     "metadata": {},
     "output_type": "display_data"
    },
    {
     "data": {
      "text/plain": [
       "CommitInfo(commit_url='https://huggingface.co/Kurosawama/gpt2-sft-0.1/commit/c307f0abdef75926a12dbfea9f6625ddbc49f1db', commit_message='Upload model', commit_description='', oid='c307f0abdef75926a12dbfea9f6625ddbc49f1db', pr_url=None, repo_url=RepoUrl('https://huggingface.co/Kurosawama/gpt2-sft-0.1', endpoint='https://huggingface.co', repo_type='model', repo_id='Kurosawama/gpt2-sft-0.1'), pr_revision=None, pr_num=None)"
      ]
     },
     "execution_count": 27,
     "metadata": {},
     "output_type": "execute_result"
    }
   ],
   "source": [
    "# Only push if there is a new model.\n",
    "#model.push_to_hub(\"gpt2-sft-0.1\")"
   ]
  },
  {
   "cell_type": "markdown",
   "id": "caced320-bd81-4f6e-a647-106c83daab43",
   "metadata": {},
   "source": [
    "### PPO\n",
    "The SFT model will be used as a reference model for PPO."
   ]
  },
  {
   "cell_type": "code",
   "execution_count": 23,
   "id": "346bba42-b5c6-45c6-91d6-988a661f0460",
   "metadata": {},
   "outputs": [
    {
     "name": "stderr",
     "output_type": "stream",
     "text": [
      "WARNING:root:A <class 'transformers.models.gpt2.modeling_gpt2.GPT2LMHeadModel'> model is loaded from 'Kurosawama/gpt2-sft-0.1', and no v_head weight is found. This IS expected if you are not resuming PPO training.\n"
     ]
    }
   ],
   "source": [
    "# Parámetros necesarios para implementar PPO mediante TRL\n",
    "model = AutoModelForCausalLM.from_pretrained('openai-community/gpt2')\n",
    "model = AutoModelForCausalLMWithValueHead.from_pretrained(model)\n",
    "ref_model = AutoModelForCausalLMWithValueHead.from_pretrained('Kurosawama/gpt2-sft-0.1')\n",
    "tokenizer = GPT2Tokenizer.from_pretrained('openai-community/gpt2')"
   ]
  },
  {
   "cell_type": "code",
   "execution_count": 24,
   "id": "112f178a-e340-4036-8467-88efe5dc4f36",
   "metadata": {},
   "outputs": [],
   "source": [
    "# Tests to get PPOTrainer to work\n",
    "tokenizer2 = AutoTokenizer.from_pretrained('openai-community/gpt2')\n",
    "generation_config = GenerationConfig.from_pretrained('openai-community/gpt2')\n",
    "model.generation_config = generation_config\n",
    "ref_model.generation_config = generation_config"
   ]
  },
  {
   "cell_type": "code",
   "execution_count": 25,
   "id": "05ffb817-0c0c-4959-b281-b4e462c39206",
   "metadata": {},
   "outputs": [],
   "source": [
    "config = PPOConfig(\n",
    "    learning_rate=1.47e-5,\n",
    "    num_train_epochs=3.0,\n",
    "    mini_batch_size=4,\n",
    "    batch_size=16,\n",
    "    gradient_accumulation_steps=1,\n",
    ")"
   ]
  },
  {
   "cell_type": "code",
   "execution_count": 26,
   "id": "093d9a9b-4d90-4a56-ad51-3ca4382718c5",
   "metadata": {
    "scrolled": true
   },
   "outputs": [
    {
     "ename": "AttributeError",
     "evalue": "GPT2TokenizerFast has no attribute modules",
     "output_type": "error",
     "traceback": [
      "\u001b[1;31m---------------------------------------------------------------------------\u001b[0m",
      "\u001b[1;31mAttributeError\u001b[0m                            Traceback (most recent call last)",
      "Cell \u001b[1;32mIn[26], line 3\u001b[0m\n\u001b[0;32m      1\u001b[0m \u001b[38;5;28;01mfrom\u001b[39;00m \u001b[38;5;21;01mtrl\u001b[39;00m \u001b[38;5;28;01mimport\u001b[39;00m PPOConfig, PPOTrainer\n\u001b[1;32m----> 3\u001b[0m ppo_trainer \u001b[38;5;241m=\u001b[39m \u001b[43mPPOTrainer\u001b[49m\u001b[43m(\u001b[49m\n\u001b[0;32m      4\u001b[0m \u001b[43m    \u001b[49m\u001b[43mconfig\u001b[49m\u001b[43m,\u001b[49m\n\u001b[0;32m      5\u001b[0m \u001b[43m    \u001b[49m\u001b[43mmodel\u001b[49m\u001b[43m,\u001b[49m\u001b[43m \u001b[49m\n\u001b[0;32m      6\u001b[0m \u001b[43m    \u001b[49m\u001b[43mref_model\u001b[49m\u001b[43m,\u001b[49m\u001b[43m \u001b[49m\n\u001b[0;32m      7\u001b[0m \u001b[43m    \u001b[49m\u001b[43mtokenizer2\u001b[49m\u001b[43m,\u001b[49m\u001b[43m \u001b[49m\n\u001b[0;32m      8\u001b[0m \u001b[43m    \u001b[49m\u001b[43mtrain_dataset\u001b[49m\u001b[43m \u001b[49m\u001b[38;5;241;43m=\u001b[39;49m\u001b[43m \u001b[49m\u001b[43mfolio_new\u001b[49m\u001b[43m,\u001b[49m\u001b[43m \u001b[49m\n\u001b[0;32m      9\u001b[0m \u001b[43m    \u001b[49m\u001b[43mreward_model\u001b[49m\u001b[43m \u001b[49m\u001b[38;5;241;43m=\u001b[39;49m\u001b[43m \u001b[49m\u001b[43mref_model\u001b[49m\n\u001b[0;32m     10\u001b[0m \u001b[43m)\u001b[49m\n",
      "File \u001b[1;32m~\\Anaconda3\\envs\\ayuda_por_favor\\lib\\site-packages\\trl\\trainer\\ppo_trainer.py:221\u001b[0m, in \u001b[0;36mPPOTrainer.__init__\u001b[1;34m(self, args, processing_class, model, ref_model, reward_model, train_dataset, value_model, data_collator, eval_dataset, optimizers, callbacks, peft_config)\u001b[0m\n\u001b[0;32m    219\u001b[0m \u001b[38;5;28;01mfor\u001b[39;00m module \u001b[38;5;129;01min\u001b[39;00m [\u001b[38;5;28mself\u001b[39m\u001b[38;5;241m.\u001b[39mpolicy_model, \u001b[38;5;28mself\u001b[39m\u001b[38;5;241m.\u001b[39mref_model, \u001b[38;5;28mself\u001b[39m\u001b[38;5;241m.\u001b[39mvalue_model, \u001b[38;5;28mself\u001b[39m\u001b[38;5;241m.\u001b[39mreward_model]:\n\u001b[0;32m    220\u001b[0m     \u001b[38;5;28;01mif\u001b[39;00m module \u001b[38;5;129;01mis\u001b[39;00m \u001b[38;5;129;01mnot\u001b[39;00m \u001b[38;5;28;01mNone\u001b[39;00m:\n\u001b[1;32m--> 221\u001b[0m         \u001b[43mdisable_dropout_in_model\u001b[49m\u001b[43m(\u001b[49m\u001b[43mmodule\u001b[49m\u001b[43m)\u001b[49m\n\u001b[0;32m    222\u001b[0m \u001b[38;5;28mself\u001b[39m\u001b[38;5;241m.\u001b[39mmodel \u001b[38;5;241m=\u001b[39m PolicyAndValueWrapper(\u001b[38;5;28mself\u001b[39m\u001b[38;5;241m.\u001b[39mpolicy_model, \u001b[38;5;28mself\u001b[39m\u001b[38;5;241m.\u001b[39mvalue_model)\n\u001b[0;32m    223\u001b[0m \u001b[38;5;28mself\u001b[39m\u001b[38;5;241m.\u001b[39mmodel\u001b[38;5;241m.\u001b[39mconfig \u001b[38;5;241m=\u001b[39m \u001b[38;5;28mself\u001b[39m\u001b[38;5;241m.\u001b[39mpolicy_model\u001b[38;5;241m.\u001b[39mconfig  \u001b[38;5;66;03m# needed for pushing to hub\u001b[39;00m\n",
      "File \u001b[1;32m~\\Anaconda3\\envs\\ayuda_por_favor\\lib\\site-packages\\trl\\trainer\\utils.py:813\u001b[0m, in \u001b[0;36mdisable_dropout_in_model\u001b[1;34m(model)\u001b[0m\n\u001b[0;32m    812\u001b[0m \u001b[38;5;28;01mdef\u001b[39;00m \u001b[38;5;21mdisable_dropout_in_model\u001b[39m(model: torch\u001b[38;5;241m.\u001b[39mnn\u001b[38;5;241m.\u001b[39mModule) \u001b[38;5;241m-\u001b[39m\u001b[38;5;241m>\u001b[39m \u001b[38;5;28;01mNone\u001b[39;00m:\n\u001b[1;32m--> 813\u001b[0m     \u001b[38;5;28;01mfor\u001b[39;00m module \u001b[38;5;129;01min\u001b[39;00m \u001b[43mmodel\u001b[49m\u001b[38;5;241;43m.\u001b[39;49m\u001b[43mmodules\u001b[49m():\n\u001b[0;32m    814\u001b[0m         \u001b[38;5;28;01mif\u001b[39;00m \u001b[38;5;28misinstance\u001b[39m(module, torch\u001b[38;5;241m.\u001b[39mnn\u001b[38;5;241m.\u001b[39mDropout):\n\u001b[0;32m    815\u001b[0m             module\u001b[38;5;241m.\u001b[39mp \u001b[38;5;241m=\u001b[39m \u001b[38;5;241m0\u001b[39m\n",
      "File \u001b[1;32m~\\Anaconda3\\envs\\ayuda_por_favor\\lib\\site-packages\\transformers\\tokenization_utils_base.py:1108\u001b[0m, in \u001b[0;36mSpecialTokensMixin.__getattr__\u001b[1;34m(self, key)\u001b[0m\n\u001b[0;32m   1105\u001b[0m         \u001b[38;5;28;01mreturn\u001b[39;00m \u001b[38;5;28mself\u001b[39m\u001b[38;5;241m.\u001b[39mconvert_tokens_to_ids(attr_as_tokens) \u001b[38;5;28;01mif\u001b[39;00m attr_as_tokens \u001b[38;5;129;01mis\u001b[39;00m \u001b[38;5;129;01mnot\u001b[39;00m \u001b[38;5;28;01mNone\u001b[39;00m \u001b[38;5;28;01melse\u001b[39;00m \u001b[38;5;28;01mNone\u001b[39;00m\n\u001b[0;32m   1107\u001b[0m \u001b[38;5;28;01mif\u001b[39;00m key \u001b[38;5;129;01mnot\u001b[39;00m \u001b[38;5;129;01min\u001b[39;00m \u001b[38;5;28mself\u001b[39m\u001b[38;5;241m.\u001b[39m\u001b[38;5;18m__dict__\u001b[39m:\n\u001b[1;32m-> 1108\u001b[0m     \u001b[38;5;28;01mraise\u001b[39;00m \u001b[38;5;167;01mAttributeError\u001b[39;00m(\u001b[38;5;124mf\u001b[39m\u001b[38;5;124m\"\u001b[39m\u001b[38;5;132;01m{\u001b[39;00m\u001b[38;5;28mself\u001b[39m\u001b[38;5;241m.\u001b[39m\u001b[38;5;18m__class__\u001b[39m\u001b[38;5;241m.\u001b[39m\u001b[38;5;18m__name__\u001b[39m\u001b[38;5;132;01m}\u001b[39;00m\u001b[38;5;124m has no attribute \u001b[39m\u001b[38;5;132;01m{\u001b[39;00mkey\u001b[38;5;132;01m}\u001b[39;00m\u001b[38;5;124m\"\u001b[39m)\n\u001b[0;32m   1109\u001b[0m \u001b[38;5;28;01melse\u001b[39;00m:\n\u001b[0;32m   1110\u001b[0m     \u001b[38;5;28;01mreturn\u001b[39;00m \u001b[38;5;28msuper\u001b[39m()\u001b[38;5;241m.\u001b[39m\u001b[38;5;21m__getattr__\u001b[39m(key)\n",
      "\u001b[1;31mAttributeError\u001b[0m: GPT2TokenizerFast has no attribute modules"
     ]
    }
   ],
   "source": [
    "from trl import PPOConfig, PPOTrainer\n",
    "\n",
    "ppo_trainer = PPOTrainer(\n",
    "    config,\n",
    "    model, \n",
    "    ref_model, \n",
    "    tokenizer2, \n",
    "    train_dataset = folio_new, \n",
    "    reward_model = ref_model\n",
    ")"
   ]
  },
  {
   "cell_type": "code",
   "execution_count": null,
   "id": "bf16b121-fb74-4a94-857d-f7afda919088",
   "metadata": {},
   "outputs": [],
   "source": [
    "# PROBLEMA: EL TOKENIZADOR NO TIENE 'attribute modules'"
   ]
  }
 ],
 "metadata": {
  "kernelspec": {
   "display_name": "Python 3 (ipykernel)",
   "language": "python",
   "name": "python3"
  },
  "language_info": {
   "codemirror_mode": {
    "name": "ipython",
    "version": 3
   },
   "file_extension": ".py",
   "mimetype": "text/x-python",
   "name": "python",
   "nbconvert_exporter": "python",
   "pygments_lexer": "ipython3",
   "version": "3.9.18"
  }
 },
 "nbformat": 4,
 "nbformat_minor": 5
}
